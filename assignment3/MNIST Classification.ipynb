{
 "cells": [
  {
   "cell_type": "code",
   "execution_count": 36,
   "metadata": {},
   "outputs": [],
   "source": [
    "import torch, torchvision, os, sys, math, warnings, random, cv2\n",
    "import torch.nn as nn\n",
    "from torchvision import transforms, utils, datasets\n",
    "from torch.utils.data import DataLoader, Dataset, sampler, SubsetRandomSampler\n",
    "import matplotlib.pyplot as plt\n",
    "import torch.nn.functional as F\n",
    "import torch.optim as optim\n",
    "from torch.optim import lr_scheduler\n",
    "from PIL import Image\n",
    "from sklearn.model_selection import train_test_split\n",
    "import numpy as np\n",
    "import pandas as pd\n",
    "\n",
    "warnings.filterwarnings('ignore')\n",
    "plt.ion()\n",
    "\n",
    "ROOT_DIR = \"/home/nikunjlad\""
   ]
  },
  {
   "cell_type": "markdown",
   "metadata": {},
   "source": [
    "## Configuring GPU for training"
   ]
  },
  {
   "cell_type": "code",
   "execution_count": 37,
   "metadata": {},
   "outputs": [
    {
     "name": "stdout",
     "output_type": "stream",
     "text": [
      "CUDA is available!  Training on Tesla T4 Device 0\n"
     ]
    }
   ],
   "source": [
    "# checking if cuda is available\n",
    "train_on_gpu = torch.cuda.is_available()\n",
    "torch.cuda.set_device(0)\n",
    "if not train_on_gpu:\n",
    "    print('CUDA is not available.  Training on CPU ...')\n",
    "else:\n",
    "    print('CUDA is available!  Training on Tesla T4 Device {}'.format(str(torch.cuda.current_device())))"
   ]
  },
  {
   "cell_type": "markdown",
   "metadata": {},
   "source": [
    "## Data Preparation"
   ]
  },
  {
   "cell_type": "code",
   "execution_count": 61,
   "metadata": {},
   "outputs": [],
   "source": [
    "torch.manual_seed(333)\n",
    "\n",
    "batch_size = 64     # number of images to be trained at any instance of time in a network\n",
    "valid_size = 0.2    # 20% data to be kept as validation\n",
    "transform = transforms.Compose([transforms.ToTensor()])\n",
    "train_data = datasets.MNIST(os.path.join(ROOT_DIR, \"data/mnist\"), train=True,download=True, transform= transforms.Compose([transforms.RandomHorizontalFlip(), transforms.ToTensor(), transforms.Normalize((0.1307,), (0.3081,))]))\n",
    "test_data = datasets.MNIST(os.path.join(ROOT_DIR, \"data/mnist\"), train=False, download=True, transform=transforms.Compose([transforms.ToTensor(), transforms.Normalize((0.1307,), (0.3081,))]))"
   ]
  },
  {
   "cell_type": "code",
   "execution_count": 62,
   "metadata": {},
   "outputs": [
    {
     "name": "stdout",
     "output_type": "stream",
     "text": [
      "torch.Size([60000, 28, 28])\n",
      "torch.Size([10000, 28, 28])\n"
     ]
    }
   ],
   "source": [
    "print(train_data.data.shape)   # 60000 training samples\n",
    "print(test_data.data.shape)    # 10000 testing samples"
   ]
  },
  {
   "cell_type": "code",
   "execution_count": 40,
   "metadata": {},
   "outputs": [
    {
     "name": "stdout",
     "output_type": "stream",
     "text": [
      "Number of training data samples:  60000\n",
      "First 10 indices in the training data before shuffling:  [0, 1, 2, 3, 4, 5, 6, 7, 8, 9]\n",
      "Amount of data in the validation set based on 20% split:  12000\n",
      "First 5 indices in the validation set after random shuffling:  [26644, 47389, 25393, 45788, 20382]\n",
      "First 5 indices in the training set after random shuffling:  [59199, 16836, 3597, 19547, 44413]\n"
     ]
    }
   ],
   "source": [
    "num_train = len(train_data)           # 60000 training data\n",
    "print(\"Number of training data samples: \", num_train)\n",
    "indices = list(range(num_train))      # indices from 0 to 59999\n",
    "print(\"First 10 indices in the training data before shuffling: \", str(indices[:10]))\n",
    "np.random.shuffle(indices)            # randomly shuffle the data\n",
    "split = int(math.ceil(valid_size*num_train))     # split value ie 0.2 x 60000 = 12000\n",
    "print(\"Amount of data in the validation set based on 20% split: \", split)\n",
    "valid_idx, train_idx = indices[:split], indices[split:]\n",
    "print(\"First 5 indices in the validation set after random shuffling: \", valid_idx[:5])\n",
    "print(\"First 5 indices in the training set after random shuffling: \", train_idx[:5])\n",
    "trainrandomsampler = SubsetRandomSampler(train_idx)        # holds 48000 training sample indices\n",
    "validrandomsampler = SubsetRandomSampler(valid_idx)        # holds 12000 validation sample indices"
   ]
  },
  {
   "cell_type": "code",
   "execution_count": 41,
   "metadata": {},
   "outputs": [
    {
     "name": "stdout",
     "output_type": "stream",
     "text": [
      "Number of training samples: 48000\n",
      "Number of validation samples:  12000\n"
     ]
    }
   ],
   "source": [
    "print(\"Number of training samples:\", len(trainrandomsampler))\n",
    "print(\"Number of validation samples: \", len(validrandomsampler))"
   ]
  },
  {
   "cell_type": "code",
   "execution_count": 42,
   "metadata": {},
   "outputs": [],
   "source": [
    "# creates training and validation data loaders based on training and validation samplers with batch size of 64\n",
    "trainloader = DataLoader(train_data, batch_size=batch_size, sampler=trainrandomsampler)  \n",
    "validloader = DataLoader(train_data, batch_size=batch_size, sampler=validrandomsampler)\n",
    "testloader = DataLoader(test_data, batch_size=batch_size)   # testing data with batch size of 64"
   ]
  },
  {
   "cell_type": "code",
   "execution_count": 43,
   "metadata": {},
   "outputs": [
    {
     "name": "stdout",
     "output_type": "stream",
     "text": [
      "Number of training samples:  48000\n",
      "750 batches each having 64 samples\n",
      "Number of validation samples:  12000\n",
      "188 batches each having 64 samples\n",
      "Number of testing samples:  10000\n",
      "157 batches each having 64 samples\n"
     ]
    }
   ],
   "source": [
    "print(\"Number of training samples: \", len(trainrandomsampler))\n",
    "print(\"{} batches each having 64 samples\".format(str(len(trainloader))))\n",
    "print(\"Number of validation samples: \", len(validrandomsampler))\n",
    "print(\"{} batches each having 64 samples\".format(str(len(validloader))))\n",
    "print(\"Number of testing samples: \", test_data.data.shape[0])\n",
    "print(\"{} batches each having 64 samples\".format(str(len(testloader))))"
   ]
  },
  {
   "cell_type": "code",
   "execution_count": 44,
   "metadata": {},
   "outputs": [
    {
     "name": "stderr",
     "output_type": "stream",
     "text": [
      "Clipping input data to the valid range for imshow with RGB data ([0..1] for floats or [0..255] for integers).\n"
     ]
    },
    {
     "name": "stdout",
     "output_type": "stream",
     "text": [
      "Batch image tensor dimensions:  torch.Size([64, 1, 28, 28])\n",
      "Batch label tensor dimensions:  torch.Size([64])\n"
     ]
    },
    {
     "data": {
      "image/png": "[encoded data removed]",
      "text/plain": [
       "<Figure size 720x720 with 1 Axes>"
      ]
     },
     "metadata": {
      "needs_background": "light"
     },
     "output_type": "display_data"
    }
   ],
   "source": [
    "batch = next(iter(trainloader))\n",
    "images, labels = batch\n",
    "\n",
    "grid = torchvision.utils.make_grid(images[:64], nrow=8)\n",
    "plt.figure(figsize=(10,10))\n",
    "plt.imshow(np.transpose(grid, (1,2,0)))\n",
    "\n",
    "for data, target in trainloader:\n",
    "    print(\"Batch image tensor dimensions: \", data.shape)\n",
    "    print(\"Batch label tensor dimensions: \", target.shape)\n",
    "    break"
   ]
  },
  {
   "cell_type": "markdown",
   "metadata": {},
   "source": [
    "## Architecting Neural Network Model"
   ]
  },
  {
   "cell_type": "code",
   "execution_count": 49,
   "metadata": {},
   "outputs": [
    {
     "name": "stdout",
     "output_type": "stream",
     "text": [
      "Net(\n",
      "  (conv1): Conv2d(1, 16, kernel_size=(5, 5), stride=(1, 1))\n",
      "  (pool): MaxPool2d(kernel_size=2, stride=2, padding=0, dilation=1, ceil_mode=False)\n",
      "  (conv2): Conv2d(16, 32, kernel_size=(3, 3), stride=(1, 1))\n",
      "  (conv2b): BatchNorm2d(32, eps=1e-05, momentum=0.1, affine=True, track_running_stats=True)\n",
      "  (fc1): Linear(in_features=800, out_features=512, bias=True)\n",
      "  (fc2): Linear(in_features=512, out_features=10, bias=True)\n",
      "  (dropout): Dropout(p=0.1, inplace=False)\n",
      ")\n"
     ]
    }
   ],
   "source": [
    "class Net(nn.Module):\n",
    "    def __init__(self):\n",
    "        super(Net, self).__init__()\n",
    "        self.conv1 = nn.Conv2d(1, 16, 5)\n",
    "        self.pool = nn.MaxPool2d(2,2)\n",
    "        self.conv2 = nn.Conv2d(16, 32, 3)\n",
    "        self.conv2b = nn.BatchNorm2d(32)\n",
    "        self.fc1 = nn.Linear(32*5*5, 512)\n",
    "        self.fc2 = nn.Linear(512, 10)\n",
    "        self.dropout = nn.Dropout(0.1)\n",
    "\n",
    "    def forward(self, x):\n",
    "        x = self.pool(F.relu(self.conv1(x)))\n",
    "        x = self.pool(F.relu(self.conv2b(self.conv2(x))))\n",
    "        x = x.view(-1, 32*5*5)\n",
    "        x = F.relu(self.fc1(x))\n",
    "        x = self.dropout(x)\n",
    "        x = F.relu(self.fc2(x))\n",
    "        return x\n",
    "\n",
    "net = Net()\n",
    "print(net)\n",
    "if train_on_gpu:\n",
    "    net.cuda()"
   ]
  },
  {
   "cell_type": "code",
   "execution_count": 50,
   "metadata": {},
   "outputs": [],
   "source": [
    "criterion = nn.CrossEntropyLoss()\n",
    "optimizer = optim.SGD(net.parameters(), lr= 0.0005, momentum=0.9)"
   ]
  },
  {
   "cell_type": "code",
   "execution_count": 51,
   "metadata": {},
   "outputs": [],
   "source": [
    "np_epochs = 125\n",
    "valid_loss_min = np.Inf\n",
    "f = 0\n",
    "# lists to store epochs, training loss and validation loss values\n",
    "epoch_list = []\n",
    "train_loss_list = []\n",
    "valid_loss_list = []"
   ]
  },
  {
   "cell_type": "code",
   "execution_count": 52,
   "metadata": {},
   "outputs": [
    {
     "name": "stdout",
     "output_type": "stream",
     "text": [
      "Epoch : 0 \t Training loss : 1.0325 \t Validation loss : 0.4762\n",
      "Valid loss decreased from : inf ----> 0.4762\n",
      "Epoch : 1 \t Training loss : 0.3899 \t Validation loss : 0.3093\n",
      "Valid loss decreased from : 0.4762 ----> 0.3093\n",
      "Epoch : 2 \t Training loss : 0.2871 \t Validation loss : 0.2508\n",
      "Valid loss decreased from : 0.3093 ----> 0.2508\n",
      "Epoch : 3 \t Training loss : 0.2340 \t Validation loss : 0.2064\n",
      "Valid loss decreased from : 0.2508 ----> 0.2064\n",
      "Epoch : 4 \t Training loss : 0.1975 \t Validation loss : 0.1790\n",
      "Valid loss decreased from : 0.2064 ----> 0.1790\n",
      "Epoch : 5 \t Training loss : 0.1721 \t Validation loss : 0.1563\n",
      "Valid loss decreased from : 0.1790 ----> 0.1563\n",
      "Epoch : 6 \t Training loss : 0.1540 \t Validation loss : 0.1425\n",
      "Valid loss decreased from : 0.1563 ----> 0.1425\n",
      "Epoch : 7 \t Training loss : 0.1398 \t Validation loss : 0.1310\n",
      "Valid loss decreased from : 0.1425 ----> 0.1310\n",
      "Epoch : 8 \t Training loss : 0.1277 \t Validation loss : 0.1227\n",
      "Valid loss decreased from : 0.1310 ----> 0.1227\n",
      "Epoch : 9 \t Training loss : 0.1193 \t Validation loss : 0.1169\n",
      "Valid loss decreased from : 0.1227 ----> 0.1169\n",
      "Epoch : 10 \t Training loss : 0.1103 \t Validation loss : 0.1106\n",
      "Valid loss decreased from : 0.1169 ----> 0.1106\n",
      "Epoch : 11 \t Training loss : 0.1043 \t Validation loss : 0.1045\n",
      "Valid loss decreased from : 0.1106 ----> 0.1045\n",
      "Epoch : 12 \t Training loss : 0.0992 \t Validation loss : 0.0980\n",
      "Valid loss decreased from : 0.1045 ----> 0.0980\n",
      "Epoch : 13 \t Training loss : 0.0934 \t Validation loss : 0.0953\n",
      "Valid loss decreased from : 0.0980 ----> 0.0953\n",
      "Epoch : 14 \t Training loss : 0.0894 \t Validation loss : 0.0921\n",
      "Valid loss decreased from : 0.0953 ----> 0.0921\n",
      "Epoch : 15 \t Training loss : 0.0855 \t Validation loss : 0.0876\n",
      "Valid loss decreased from : 0.0921 ----> 0.0876\n",
      "Epoch : 16 \t Training loss : 0.0818 \t Validation loss : 0.0863\n",
      "Valid loss decreased from : 0.0876 ----> 0.0863\n",
      "Epoch : 17 \t Training loss : 0.0786 \t Validation loss : 0.0838\n",
      "Valid loss decreased from : 0.0863 ----> 0.0838\n",
      "Epoch : 18 \t Training loss : 0.0750 \t Validation loss : 0.0822\n",
      "Valid loss decreased from : 0.0838 ----> 0.0822\n",
      "Epoch : 19 \t Training loss : 0.0726 \t Validation loss : 0.0791\n",
      "Valid loss decreased from : 0.0822 ----> 0.0791\n",
      "Epoch : 20 \t Training loss : 0.0701 \t Validation loss : 0.0766\n",
      "Valid loss decreased from : 0.0791 ----> 0.0766\n",
      "Epoch : 21 \t Training loss : 0.0676 \t Validation loss : 0.0763\n",
      "Valid loss decreased from : 0.0766 ----> 0.0763\n",
      "Epoch : 22 \t Training loss : 0.0653 \t Validation loss : 0.0736\n",
      "Valid loss decreased from : 0.0763 ----> 0.0736\n",
      "Epoch : 23 \t Training loss : 0.0636 \t Validation loss : 0.0733\n",
      "Valid loss decreased from : 0.0736 ----> 0.0733\n",
      "Epoch : 24 \t Training loss : 0.0618 \t Validation loss : 0.0729\n",
      "Valid loss decreased from : 0.0733 ----> 0.0729\n",
      "Epoch : 25 \t Training loss : 0.0593 \t Validation loss : 0.0694\n",
      "Valid loss decreased from : 0.0729 ----> 0.0694\n",
      "Epoch : 26 \t Training loss : 0.0576 \t Validation loss : 0.0688\n",
      "Valid loss decreased from : 0.0694 ----> 0.0688\n",
      "Epoch : 27 \t Training loss : 0.0562 \t Validation loss : 0.0694\n",
      "Epoch : 28 \t Training loss : 0.0548 \t Validation loss : 0.0656\n",
      "Valid loss decreased from : 0.0688 ----> 0.0656\n",
      "Epoch : 29 \t Training loss : 0.0535 \t Validation loss : 0.0690\n",
      "Epoch : 30 \t Training loss : 0.0515 \t Validation loss : 0.0643\n",
      "Valid loss decreased from : 0.0656 ----> 0.0643\n",
      "Epoch : 31 \t Training loss : 0.0502 \t Validation loss : 0.0654\n",
      "Epoch : 32 \t Training loss : 0.0500 \t Validation loss : 0.0629\n",
      "Valid loss decreased from : 0.0643 ----> 0.0629\n",
      "Epoch : 33 \t Training loss : 0.0486 \t Validation loss : 0.0622\n",
      "Valid loss decreased from : 0.0629 ----> 0.0622\n",
      "Epoch : 34 \t Training loss : 0.0463 \t Validation loss : 0.0644\n",
      "Epoch : 35 \t Training loss : 0.0458 \t Validation loss : 0.0613\n",
      "Valid loss decreased from : 0.0622 ----> 0.0613\n",
      "Epoch : 36 \t Training loss : 0.0453 \t Validation loss : 0.0599\n",
      "Valid loss decreased from : 0.0613 ----> 0.0599\n",
      "Epoch : 37 \t Training loss : 0.0438 \t Validation loss : 0.0597\n",
      "Valid loss decreased from : 0.0599 ----> 0.0597\n",
      "Epoch : 38 \t Training loss : 0.0424 \t Validation loss : 0.0583\n",
      "Valid loss decreased from : 0.0597 ----> 0.0583\n",
      "Epoch : 39 \t Training loss : 0.0419 \t Validation loss : 0.0575\n",
      "Valid loss decreased from : 0.0583 ----> 0.0575\n",
      "Epoch : 40 \t Training loss : 0.0411 \t Validation loss : 0.0573\n",
      "Valid loss decreased from : 0.0575 ----> 0.0573\n",
      "Epoch : 41 \t Training loss : 0.0402 \t Validation loss : 0.0576\n",
      "Epoch : 42 \t Training loss : 0.0392 \t Validation loss : 0.0573\n",
      "Epoch : 43 \t Training loss : 0.0380 \t Validation loss : 0.0559\n",
      "Valid loss decreased from : 0.0573 ----> 0.0559\n",
      "Epoch : 44 \t Training loss : 0.0378 \t Validation loss : 0.0562\n",
      "Epoch : 45 \t Training loss : 0.0375 \t Validation loss : 0.0551\n",
      "Valid loss decreased from : 0.0559 ----> 0.0551\n",
      "Epoch : 46 \t Training loss : 0.0363 \t Validation loss : 0.0532\n",
      "Valid loss decreased from : 0.0551 ----> 0.0532\n",
      "Epoch : 47 \t Training loss : 0.0356 \t Validation loss : 0.0562\n",
      "Epoch : 48 \t Training loss : 0.0347 \t Validation loss : 0.0545\n",
      "Epoch : 49 \t Training loss : 0.0340 \t Validation loss : 0.0542\n",
      "Epoch : 50 \t Training loss : 0.0332 \t Validation loss : 0.0542\n",
      "Epoch : 51 \t Training loss : 0.0325 \t Validation loss : 0.0522\n",
      "Valid loss decreased from : 0.0532 ----> 0.0522\n",
      "Epoch : 52 \t Training loss : 0.0318 \t Validation loss : 0.0516\n",
      "Valid loss decreased from : 0.0522 ----> 0.0516\n",
      "Epoch : 53 \t Training loss : 0.0313 \t Validation loss : 0.0517\n",
      "Epoch : 54 \t Training loss : 0.0316 \t Validation loss : 0.0511\n",
      "Valid loss decreased from : 0.0516 ----> 0.0511\n",
      "Epoch : 55 \t Training loss : 0.0304 \t Validation loss : 0.0524\n",
      "Epoch : 56 \t Training loss : 0.0300 \t Validation loss : 0.0493\n",
      "Valid loss decreased from : 0.0511 ----> 0.0493\n",
      "Epoch : 57 \t Training loss : 0.0293 \t Validation loss : 0.0506\n",
      "Epoch : 58 \t Training loss : 0.0282 \t Validation loss : 0.0522\n",
      "Epoch : 59 \t Training loss : 0.0287 \t Validation loss : 0.0504\n",
      "Epoch : 60 \t Training loss : 0.0277 \t Validation loss : 0.0501\n",
      "Epoch : 61 \t Training loss : 0.0276 \t Validation loss : 0.0506\n",
      "Epoch : 62 \t Training loss : 0.0265 \t Validation loss : 0.0504\n",
      "Epoch : 63 \t Training loss : 0.0262 \t Validation loss : 0.0494\n"
     ]
    }
   ],
   "source": [
    "for epoch in range(np_epochs):\n",
    "    if f < 7:\n",
    "        train_loss = 0\n",
    "        valid_loss = 0\n",
    "        net.train()\n",
    "        for data, labels in iter(trainloader):\n",
    "            if train_on_gpu:\n",
    "                data, labels = data.cuda(), labels.cuda()\n",
    "\n",
    "            optimizer.zero_grad()\n",
    "            outputs = net(data)\n",
    "            loss = criterion(outputs, labels)\n",
    "            loss.backward()\n",
    "            optimizer.step()\n",
    "            train_loss += loss.item()*data.size(0)\n",
    "\n",
    "        net.eval()\n",
    "        for data, labels in iter(validloader):\n",
    "            if train_on_gpu:\n",
    "                data, labels = data.cuda(), labels.cuda()\n",
    "                outputs = net(data)\n",
    "                loss = criterion(outputs, labels)\n",
    "                valid_loss += loss.item()*data.size(0)\n",
    "\n",
    "        train_loss = train_loss/len(trainloader.sampler)\n",
    "        valid_loss = valid_loss/len(validloader.sampler)\n",
    "        print('Epoch : {} \\t Training loss : {:.4f} \\t Validation loss : {:.4f}'.format(epoch, train_loss, valid_loss))\n",
    "        epoch_list.append(epoch)\n",
    "        train_loss_list.append(train_loss)\n",
    "        valid_loss_list.append(valid_loss)\n",
    "        if valid_loss < valid_loss_min:\n",
    "            f = 0\n",
    "            print('Valid loss decreased from : {:.4f} ----> {:.4f}'.format(valid_loss_min, valid_loss))\n",
    "            torch.save(net.state_dict(), 'model_mnist.pt')\n",
    "            valid_loss_min = valid_loss\n",
    "        else:\n",
    "            f += 1"
   ]
  },
  {
   "cell_type": "code",
   "execution_count": 53,
   "metadata": {},
   "outputs": [
    {
     "data": {
      "image/png": "[encoded data removed]",
      "text/plain": [
       "<Figure size 576x576 with 1 Axes>"
      ]
     },
     "metadata": {
      "needs_background": "light"
     },
     "output_type": "display_data"
    }
   ],
   "source": [
    "plt.figure(figsize=(8,8))\n",
    "x = epoch_list\n",
    "plt.plot(x, train_loss_list)\n",
    "plt.plot(x, valid_loss_list)\n",
    "plt.legend(['train_loss', 'valid_loss'], loc='upper right')\n",
    "plt.xlabel(\"Epochs\")\n",
    "plt.ylabel(\"Cross-Entropy Loss\")\n",
    "plt.title(\"MNIST Loss Curves\")\n",
    "plt.xlim(0,50)\n",
    "plt.show()"
   ]
  },
  {
   "cell_type": "code",
   "execution_count": 54,
   "metadata": {},
   "outputs": [
    {
     "data": {
      "text/plain": [
       "<All keys matched successfully>"
      ]
     },
     "execution_count": 54,
     "metadata": {},
     "output_type": "execute_result"
    }
   ],
   "source": [
    "net.load_state_dict(torch.load('model_mnist.pt'))"
   ]
  },
  {
   "cell_type": "code",
   "execution_count": 83,
   "metadata": {},
   "outputs": [
    {
     "ename": "TypeError",
     "evalue": "tensor or list of tensors expected, got <class 'numpy.ndarray'>",
     "output_type": "error",
     "traceback": [
      "\u001b[0;31m---------------------------------------------------------------------------\u001b[0m",
      "\u001b[0;31mTypeError\u001b[0m                                 Traceback (most recent call last)",
      "\u001b[0;32m<ipython-input-83-2038f80a9d5b>\u001b[0m in \u001b[0;36m<module>\u001b[0;34m\u001b[0m\n\u001b[0;32m----> 1\u001b[0;31m \u001b[0mgrid\u001b[0m \u001b[0;34m=\u001b[0m \u001b[0mtorchvision\u001b[0m\u001b[0;34m.\u001b[0m\u001b[0mutils\u001b[0m\u001b[0;34m.\u001b[0m\u001b[0mmake_grid\u001b[0m\u001b[0;34m(\u001b[0m\u001b[0mnet\u001b[0m\u001b[0;34m.\u001b[0m\u001b[0mconv1\u001b[0m\u001b[0;34m.\u001b[0m\u001b[0mweight\u001b[0m\u001b[0;34m[\u001b[0m\u001b[0;36m0\u001b[0m\u001b[0;34m]\u001b[0m\u001b[0;34m.\u001b[0m\u001b[0mcpu\u001b[0m\u001b[0;34m(\u001b[0m\u001b[0;34m)\u001b[0m\u001b[0;34m.\u001b[0m\u001b[0mdetach\u001b[0m\u001b[0;34m(\u001b[0m\u001b[0;34m)\u001b[0m\u001b[0;34m.\u001b[0m\u001b[0mnumpy\u001b[0m\u001b[0;34m(\u001b[0m\u001b[0;34m)\u001b[0m\u001b[0;34m,\u001b[0m \u001b[0mnrow\u001b[0m\u001b[0;34m=\u001b[0m\u001b[0;36m8\u001b[0m\u001b[0;34m)\u001b[0m\u001b[0;34m\u001b[0m\u001b[0;34m\u001b[0m\u001b[0m\n\u001b[0m\u001b[1;32m      2\u001b[0m \u001b[0mplt\u001b[0m\u001b[0;34m.\u001b[0m\u001b[0mfigure\u001b[0m\u001b[0;34m(\u001b[0m\u001b[0mfigsize\u001b[0m\u001b[0;34m=\u001b[0m\u001b[0;34m(\u001b[0m\u001b[0;36m10\u001b[0m\u001b[0;34m,\u001b[0m\u001b[0;36m10\u001b[0m\u001b[0;34m)\u001b[0m\u001b[0;34m)\u001b[0m\u001b[0;34m\u001b[0m\u001b[0;34m\u001b[0m\u001b[0m\n\u001b[1;32m      3\u001b[0m \u001b[0mplt\u001b[0m\u001b[0;34m.\u001b[0m\u001b[0mimshow\u001b[0m\u001b[0;34m(\u001b[0m\u001b[0mnp\u001b[0m\u001b[0;34m.\u001b[0m\u001b[0mtranspose\u001b[0m\u001b[0;34m(\u001b[0m\u001b[0mgrid\u001b[0m\u001b[0;34m,\u001b[0m \u001b[0;34m(\u001b[0m\u001b[0;36m1\u001b[0m\u001b[0;34m,\u001b[0m\u001b[0;36m2\u001b[0m\u001b[0;34m,\u001b[0m\u001b[0;36m0\u001b[0m\u001b[0;34m)\u001b[0m\u001b[0;34m)\u001b[0m\u001b[0;34m)\u001b[0m\u001b[0;34m\u001b[0m\u001b[0;34m\u001b[0m\u001b[0m\n\u001b[1;32m      4\u001b[0m \u001b[0;31m# net.conv1.weight[0:10]\u001b[0m\u001b[0;34m\u001b[0m\u001b[0;34m\u001b[0m\u001b[0;34m\u001b[0m\u001b[0m\n",
      "\u001b[0;32m~/.local/lib/python3.6/site-packages/torchvision/utils.py\u001b[0m in \u001b[0;36mmake_grid\u001b[0;34m(tensor, nrow, padding, normalize, range, scale_each, pad_value)\u001b[0m\n\u001b[1;32m     29\u001b[0m     if not (torch.is_tensor(tensor) or\n\u001b[1;32m     30\u001b[0m             (isinstance(tensor, list) and all(torch.is_tensor(t) for t in tensor))):\n\u001b[0;32m---> 31\u001b[0;31m         \u001b[0;32mraise\u001b[0m \u001b[0mTypeError\u001b[0m\u001b[0;34m(\u001b[0m\u001b[0;34m'tensor or list of tensors expected, got {}'\u001b[0m\u001b[0;34m.\u001b[0m\u001b[0mformat\u001b[0m\u001b[0;34m(\u001b[0m\u001b[0mtype\u001b[0m\u001b[0;34m(\u001b[0m\u001b[0mtensor\u001b[0m\u001b[0;34m)\u001b[0m\u001b[0;34m)\u001b[0m\u001b[0;34m)\u001b[0m\u001b[0;34m\u001b[0m\u001b[0;34m\u001b[0m\u001b[0m\n\u001b[0m\u001b[1;32m     32\u001b[0m \u001b[0;34m\u001b[0m\u001b[0m\n\u001b[1;32m     33\u001b[0m     \u001b[0;31m# if list of tensors, convert to a 4D mini-batch Tensor\u001b[0m\u001b[0;34m\u001b[0m\u001b[0;34m\u001b[0m\u001b[0;34m\u001b[0m\u001b[0m\n",
      "\u001b[0;31mTypeError\u001b[0m: tensor or list of tensors expected, got <class 'numpy.ndarray'>"
     ]
    }
   ],
   "source": []
  },
  {
   "cell_type": "code",
   "execution_count": 55,
   "metadata": {},
   "outputs": [],
   "source": [
    "test_loss = 0.0     # making test loss is equal to 0\n",
    "class_correct = list(0. for i in range(10))   # correct class list of \n",
    "class_total = list(0. for i in range(10))\n",
    "j = 0\n",
    "test_accuracy = 0"
   ]
  },
  {
   "cell_type": "code",
   "execution_count": 56,
   "metadata": {},
   "outputs": [],
   "source": [
    "classes = ['0 - zero',\n",
    " '1 - one',\n",
    " '2 - two',\n",
    " '3 - three',\n",
    " '4 - four',\n",
    " '5 - five',\n",
    " '6 - six',\n",
    " '7 - seven',\n",
    " '8 - eight',\n",
    " '9 - nine']"
   ]
  },
  {
   "cell_type": "code",
   "execution_count": 57,
   "metadata": {},
   "outputs": [
    {
     "name": "stdout",
     "output_type": "stream",
     "text": [
      "Test Loss: 0.041589\n",
      "\n",
      "Test Accuracy of 0 - zero: 99% (976/980)\n",
      "Test Accuracy of 1 - one: 99% (1129/1135)\n",
      "Test Accuracy of 2 - two: 97% (1008/1032)\n",
      "Test Accuracy of 3 - three: 98% (998/1010)\n",
      "Test Accuracy of 4 - four: 99% (973/982)\n",
      "Test Accuracy of 5 - five: 97% (874/892)\n",
      "Test Accuracy of 6 - six: 97% (936/958)\n",
      "Test Accuracy of 7 - seven: 98% (1013/1028)\n",
      "Test Accuracy of 8 - eight: 99% (966/974)\n",
      "Test Accuracy of 9 - nine: 97% (986/1009)\n",
      "\n",
      "Test Accuracy (Overall): 98% (9859/10000)\n"
     ]
    }
   ],
   "source": [
    "net.eval()\n",
    "# iterate over test data\n",
    "for data, target in testloader:\n",
    "    # move tensors to GPU if CUDA is available\n",
    "    if train_on_gpu:\n",
    "        data, target = data.cuda(), target.cuda()\n",
    "        \n",
    "    # forward pass: compute predicted outputs by passing inputs to the model\n",
    "    output = net(data)\n",
    "    # calculate the batch loss\n",
    "    loss = criterion(output, target)\n",
    "    # update test loss \n",
    "    test_loss += loss.item() * data.size(0)\n",
    "    # convert output probabilities to predicted class\n",
    "    _, pred = torch.max(output, 1)    \n",
    "    # compare predictions to true label\n",
    "    correct_tensor = pred.eq(target.data.view_as(pred))\n",
    "    correct = np.squeeze(correct_tensor.numpy()) if not train_on_gpu else np.squeeze(correct_tensor.cpu().numpy())\n",
    "    # calculate test accuracy for each object class\n",
    "    \n",
    "    if len(target) == batch_size:\n",
    "        j = batch_size\n",
    "    else:\n",
    "        j = len(target)\n",
    "        \n",
    "    for i in range(j):\n",
    "        label = target.data[i]\n",
    "        class_correct[label] += correct[i].item()\n",
    "        class_total[label] += 1   \n",
    "        \n",
    "# average test loss\n",
    "test_loss = test_loss/len(testloader.dataset)\n",
    "print('Test Loss: {:.6f}\\n'.format(test_loss))\n",
    "\n",
    "for i in range(10):\n",
    "    if class_total[i] > 0:\n",
    "        print('Test Accuracy of %5s: %2d%% (%2d/%2d)' % (\n",
    "            classes[i], 100 * class_correct[i] / class_total[i],\n",
    "            np.sum(class_correct[i]), np.sum(class_total[i])))\n",
    "    else:\n",
    "        print('Test Accuracy of %5s: N/A (no training examples)' % (classes[i]))\n",
    "\n",
    "print('\\nTest Accuracy (Overall): %2d%% (%2d/%2d)' % (100. * np.sum(class_correct) / np.sum(class_total),\n",
    "                                                      np.sum(class_correct), np.sum(class_total)))\n",
    "test_accuracy = (100. * np.sum(class_correct) / np.sum(class_total))"
   ]
  },
  {
   "cell_type": "markdown",
   "metadata": {},
   "source": [
    "## Observations\n",
    "\n",
    "Run1\n",
    "1. Epochs = 100\n",
    "2. batch size = 64\n",
    "3. optimizer = SGD\n",
    "4. alpha = 0.0005\n",
    "5. training loss = 0.0208\n",
    "6. validation loss = 0.0371\n",
    "7. test loss = 0.036092\n",
    "8. test accuracy = 98%\n",
    "9. model = model_mnist.pt\n",
    "10. dropout = 0.3\n",
    "\n",
    "Run1\n",
    "1. Epochs = 100\n",
    "2. batch size = 64\n",
    "3. optimizer = SGD\n",
    "4. alpha = 0.0005\n",
    "5. training loss = 0.0262\n",
    "6. validation loss = 0.0494\n",
    "7. test loss = 0.041589\n",
    "8. test accuracy = 98%\n",
    "9. model = model_mnist.pt\n",
    "10. dropout = 0.1"
   ]
  },
  {
   "cell_type": "code",
   "execution_count": null,
   "metadata": {},
   "outputs": [],
   "source": []
  }
 ],
 "metadata": {
  "kernelspec": {
   "display_name": "Python 3",
   "language": "python",
   "name": "python3"
  },
  "language_info": {
   "codemirror_mode": {
    "name": "ipython",
    "version": 3
   },
   "file_extension": ".py",
   "mimetype": "text/x-python",
   "name": "python",
   "nbconvert_exporter": "python",
   "pygments_lexer": "ipython3",
   "version": "3.6.9"
  }
 },
 "nbformat": 4,
 "nbformat_minor": 4
}
