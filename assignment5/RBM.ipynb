{
 "cells": [
  {
   "cell_type": "markdown",
   "metadata": {},
   "source": [
    "# Restricted Boltzmann Machines on MNIST"
   ]
  },
  {
   "cell_type": "code",
   "execution_count": 2,
   "metadata": {},
   "outputs": [],
   "source": [
    "# importing relevant libraries\n",
    "import torch\n",
    "import numpy as np"
   ]
  },
  {
   "cell_type": "code",
   "execution_count": 35,
   "metadata": {},
   "outputs": [],
   "source": [
    "class RBM:\n",
    "    \n",
    "    def __init__(self, num_visible, num_hidden):\n",
    "        self.num_visible = num_visible   # number of visible units in RBM\n",
    "        self.num_hidden = num_hidden    # number of hidden units in RBM\n",
    "        \n",
    "        np_rand = np.random.RandomState(1234)\n",
    "        \n",
    "        # create a random spread of weights based on a normal distribution\n",
    "        self.weights = np.asarray(np_rand.uniform(\n",
    "                                    low=-0.1 * np.sqrt(6. / (num_visible + num_hidden)),\n",
    "                                    high=0.1 * np.sqrt(6. / (num_visible + num_hidden)),\n",
    "                                    size=(num_visible, num_hidden)))\n",
    "        \n",
    "        # adding bias along axis 0, i.e adding a row of 0's before all the weights\n",
    "        # this is the bias for hidden neurons\n",
    "        self.weights = np.insert(self.weights, 0, 0, axis=0)\n",
    "        \n",
    "        # adding bias along axis 1, i.e adding a new column before 1st column in the weights\n",
    "        # this is the bias for the visible neurons\n",
    "        self.weights = np.insert(self.weights, 0, 0, axis=1)\n",
    "        \n",
    "    def train(self, data, max_epochs = 1000, alpha=)"
   ]
  },
  {
   "cell_type": "code",
   "execution_count": 33,
   "metadata": {
    "scrolled": true
   },
   "outputs": [
    {
     "data": {
      "text/plain": [
       "array([[ 0.00000000e+00,  0.00000000e+00,  0.00000000e+00, ...,\n",
       "         0.00000000e+00,  0.00000000e+00,  0.00000000e+00],\n",
       "       [-5.31323648e-03,  2.10318861e-03, -1.07257086e-03, ...,\n",
       "        -7.31358875e-03, -2.25936150e-03,  7.46035948e-03],\n",
       "       [ 2.60732119e-03, -1.77057197e-03,  4.97305756e-03, ...,\n",
       "         1.05811690e-03, -2.93377275e-03,  5.11004209e-05],\n",
       "       ...,\n",
       "       [ 5.85584252e-03,  5.13815751e-03,  7.29254497e-03, ...,\n",
       "        -1.71656446e-03, -7.87590787e-03, -6.66450268e-03],\n",
       "       [-2.95153574e-03, -7.66219311e-03,  6.40225600e-03, ...,\n",
       "        -2.23265559e-03,  5.25319795e-03,  3.69438135e-03],\n",
       "       [-2.70736160e-03,  3.64618761e-03, -7.58282809e-03, ...,\n",
       "         5.35289213e-04, -6.54133918e-03, -5.58677335e-03]])"
      ]
     },
     "execution_count": 33,
     "metadata": {},
     "output_type": "execute_result"
    }
   ],
   "source": [
    "r = RBM(784, 25)\n",
    "wts = r.weights\n",
    "wts"
   ]
  },
  {
   "cell_type": "code",
   "execution_count": null,
   "metadata": {},
   "outputs": [],
   "source": []
  }
 ],
 "metadata": {
  "kernelspec": {
   "display_name": "Python 3",
   "language": "python",
   "name": "python3"
  },
  "language_info": {
   "codemirror_mode": {
    "name": "ipython",
    "version": 3
   },
   "file_extension": ".py",
   "mimetype": "text/x-python",
   "name": "python",
   "nbconvert_exporter": "python",
   "pygments_lexer": "ipython3",
   "version": "3.6.9"
  }
 },
 "nbformat": 4,
 "nbformat_minor": 4
}
